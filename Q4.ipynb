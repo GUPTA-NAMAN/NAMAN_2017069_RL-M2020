{
  "nbformat": 4,
  "nbformat_minor": 0,
  "metadata": {
    "colab": {
      "name": "qc3_rl.ipynb",
      "provenance": [],
      "authorship_tag": "ABX9TyMQPy3db9pns/287Ywt4C0S",
      "include_colab_link": true
    },
    "kernelspec": {
      "name": "python3",
      "display_name": "Python 3"
    }
  },
  "cells": [
    {
      "cell_type": "markdown",
      "metadata": {
        "id": "view-in-github",
        "colab_type": "text"
      },
      "source": [
        "<a href=\"https://colab.research.google.com/github/GUPTA-NAMAN/Reinforcement-Learning/blob/A2/Q4.ipynb\" target=\"_parent\"><img src=\"https://colab.research.google.com/assets/colab-badge.svg\" alt=\"Open In Colab\"/></a>"
      ]
    },
    {
      "cell_type": "code",
      "metadata": {
        "id": "B4KPQ1YrIPJK"
      },
      "source": [
        "import numpy\n",
        "import random"
      ],
      "execution_count": 114,
      "outputs": []
    },
    {
      "cell_type": "code",
      "metadata": {
        "id": "0OaplOXSlVdW"
      },
      "source": [
        "values = numpy.zeros( (5,5) , \"float\" )     # defining matrix for action-value\n",
        "# Intializing intial value with all state value to be 0 \n",
        "random.seed(1)\n",
        "for i in range(5) :\n",
        "  for j in range(5) :\n",
        "    values[i][j] = 0 # random.gauss(0,1)"
      ],
      "execution_count": 115,
      "outputs": []
    },
    {
      "cell_type": "code",
      "metadata": {
        "id": "0xBMoX69yDDI"
      },
      "source": [
        "gamma = 0.9                    # this value is Discounting factor"
      ],
      "execution_count": 116,
      "outputs": []
    },
    {
      "cell_type": "code",
      "metadata": {
        "id": "7ECfAkq_rLC-"
      },
      "source": [
        "def find_value(value,i,j,i1,j1) :\n",
        "  sum = 0\n",
        "\n",
        "  # assigning imediate reward R_{t+1}\n",
        "  if ( i==0 and j==1 ) :                # if we are in block A\n",
        "    sum = sum + 10\n",
        "  elif (i==0 and j==3) :                # if we are in B block\n",
        "    sum = sum + 5 \n",
        "  else :\n",
        "    if ( i==0 and i1<0 ) :              # we are in topmost row and going up\n",
        "      sum = sum - 1\n",
        "    elif ( i==4 and i1>4 ) :            # Are in lowermost row and going down\n",
        "      sum = sum - 1\n",
        "    elif (j==0 and j1<0) :              # Are in left most column and going left\n",
        "      sum = sum - 1\n",
        "    elif ( j==4 and j1>4 ) :            # Are in rogth most column and going right\n",
        "      sum = sum - 1\n",
        "    else :\n",
        "      sum = sum + 0                     # for all other movement's\n",
        "  \n",
        "\n",
        "  if( i1<0 or i1>4 or j1<0 or j1>4 )   :    # If we are leaving the Grid after movement\n",
        "    sum = sum + gamma*value[i][j]\n",
        "  else :                                    # Are in the grid \n",
        "    sum = sum + gamma*value[i1][j1]\n",
        "\n",
        "  return sum ;\n",
        "\n",
        "  "
      ],
      "execution_count": 117,
      "outputs": []
    },
    {
      "cell_type": "code",
      "metadata": {
        "id": "tTTk9ycDvfdi"
      },
      "source": [
        "#  It find best moves given their expected rewards are taking the actions\n",
        "def best_move(max_list, movements ) :   \n",
        "  maximum = max(max_list)          # finding maximum E(G_t)\n",
        "  best_moves = []\n",
        "  for i in range(4) :\n",
        "    if max_list[i]==maximum :               # could be possible multiple action have same E[G_t]\n",
        "        best_moves.append( movements[i] )\n",
        "  return random.choice(best_moves)                      # randomly selecting from those actions"
      ],
      "execution_count": 118,
      "outputs": []
    },
    {
      "cell_type": "code",
      "metadata": {
        "id": "UOHqzH0eqv72"
      },
      "source": [
        "def update(value,i,j) :\n",
        "  \n",
        "  max_list = []\n",
        "  movements = []\n",
        "  for i1,j1 in [ (i-1,j) , (i+1,j) , (i,j-1) , (i,j+1) ] :              # set of all possible movements up,down,lef and right respectively\n",
        "      v_temp_new = find_value(value,i,j,i1,j1) \n",
        "      max_list.append( v_temp_new )\n",
        "      movements.append( (i1,j1) ) \n",
        "  if (i==0  and j==0) :\n",
        "    #print(max_list) \n",
        "    #print(movements)\n",
        "    do =None\n",
        "  (i_n,j_n) = best_move( max_list , movements  )      # Returining best action \n",
        "  \n",
        "  value[i][j] = find_value( value , i , j , i_n , j_n )       # updating current action-value \n"
      ],
      "execution_count": 119,
      "outputs": []
    },
    {
      "cell_type": "code",
      "metadata": {
        "id": "LiIyxSkmqMGO"
      },
      "source": [
        "# number of times we have to do policy improvement\n",
        "iterations = 1000"
      ],
      "execution_count": 120,
      "outputs": []
    },
    {
      "cell_type": "code",
      "metadata": {
        "id": "FY7VDC2CqQUc"
      },
      "source": [
        "# Doinging iterations\n",
        "for i in range( iterations ) :\n",
        "  for j in range(5) :\n",
        "    for k in range(5) :\n",
        "      update(values,j,k)\n",
        "      #print(i, values[j][k] )"
      ],
      "execution_count": 121,
      "outputs": []
    },
    {
      "cell_type": "code",
      "metadata": {
        "id": "4JvrhYUYyjO9",
        "outputId": "452a09f8-32f5-4b9e-ac11-ef83773fa0c6",
        "colab": {
          "base_uri": "https://localhost:8080/",
          "height": 459
        }
      },
      "source": [
        "print(\"Row   Column    State-value\")\n",
        "for i in range(5) :\n",
        "  for j in range(5) :\n",
        "    print(i ,\"\\t\",j,\"\\t\",values[i][j])"
      ],
      "execution_count": 122,
      "outputs": [
        {
          "output_type": "stream",
          "text": [
            "Row   Column    State-value\n",
            "0 \t 0 \t 89.99999999999996\n",
            "0 \t 1 \t 99.99999999999996\n",
            "0 \t 2 \t 89.99999999999996\n",
            "0 \t 3 \t 85.99999999999996\n",
            "0 \t 4 \t 77.39999999999996\n",
            "1 \t 0 \t 80.99999999999996\n",
            "1 \t 1 \t 89.99999999999996\n",
            "1 \t 2 \t 80.99999999999996\n",
            "1 \t 3 \t 77.39999999999996\n",
            "1 \t 4 \t 69.65999999999997\n",
            "2 \t 0 \t 72.89999999999996\n",
            "2 \t 1 \t 80.99999999999996\n",
            "2 \t 2 \t 72.89999999999996\n",
            "2 \t 3 \t 69.65999999999997\n",
            "2 \t 4 \t 62.693999999999974\n",
            "3 \t 0 \t 65.60999999999997\n",
            "3 \t 1 \t 72.89999999999996\n",
            "3 \t 2 \t 65.60999999999997\n",
            "3 \t 3 \t 62.693999999999974\n",
            "3 \t 4 \t 56.42459999999998\n",
            "4 \t 0 \t 59.04899999999998\n",
            "4 \t 1 \t 65.60999999999997\n",
            "4 \t 2 \t 59.04899999999998\n",
            "4 \t 3 \t 56.42459999999998\n",
            "4 \t 4 \t 50.78213999999998\n"
          ],
          "name": "stdout"
        }
      ]
    },
    {
      "cell_type": "code",
      "metadata": {
        "id": "ty9McY8x6KZ-"
      },
      "source": [
        ""
      ],
      "execution_count": 122,
      "outputs": []
    }
  ]
}