{
 "cells": [
  {
   "cell_type": "code",
   "execution_count": 89,
   "metadata": {},
   "outputs": [],
   "source": [
    "import random\n",
    "import numpy\n",
    "import matplotlib"
   ]
  },
  {
   "cell_type": "code",
   "execution_count": 82,
   "metadata": {},
   "outputs": [],
   "source": [
    "class Arm_set :\n",
    "    count_arms = -1\n",
    "    epsilon = -1\n",
    "    Arms = -1\n",
    "    actions = -1 \n",
    "    arm = -1\n",
    "    rewards = -1\n",
    "    \n",
    "    def __init__(self,k,esp,desc) :\n",
    "        self.count_arm = k \n",
    "        self.epsilon = esp\n",
    "        self.Arms = []\n",
    "        self.actions = 0 \n",
    "        self.arm = []\n",
    "        self.rewards = []\n",
    "        for i in range(k) :\n",
    "            mean = desc[i][0]\n",
    "            var  = desc[i][1]\n",
    "            initial = desc[i][2]\n",
    "            self.Arms.append( Arm(mean,var,initial) )\n",
    "            self.arm.append( i )\n",
    "            \n",
    "    def Take_Action(self) :\n",
    "        option = numpy.random.binomial(1,self.epsilon,1)[0]\n",
    "        if option==1 :\n",
    "            sel_arm = random.sample(self.arm,1)[0]  \n",
    "        else :\n",
    "            sel_arm = greedy() \n",
    "        rew = self.Arms[sel_arm].update\n",
    "        self.actions = self.actions + 1\n",
    "        self.rewards.append(rew)\n",
    "        self.est_error() \n",
    "            \n",
    "    def est_error(self) : \n",
    "        for i in range(self.count_arm) :\n",
    "            self.Arms[i].cal_error() \n",
    "        \n",
    "    def greedy(self) :\n",
    "        index=0\n",
    "        maxi =self.Arms[0].qk\n",
    "        for i in range(1,count_arm) :\n",
    "            if Arms[i].qk > maxi :\n",
    "                maxi = Arms[i].qk \n",
    "                index = i \n",
    "        return index \n",
    "        "
   ]
  },
  {
   "cell_type": "code",
   "execution_count": 83,
   "metadata": {},
   "outputs": [],
   "source": [
    "class Arm :\n",
    "    qk=-1\n",
    "    var=-1\n",
    "    mean=-1\n",
    "    k=-1\n",
    "    error= -1\n",
    "    def __init__(self,a,b,c) :\n",
    "        self.qk = c \n",
    "        self.var = b \n",
    "        self.mean = a \n",
    "        self.k = 0\n",
    "        self.error = []\n",
    "        \n",
    "    def update(self) :\n",
    "        self.k=self.k+1.0 \n",
    "        award = Award(mean,var)\n",
    "        self.qk = self.qk + (award-self.qk)/(self.k) \n",
    "        return award\n",
    "    \n",
    "    def Award(mean,var) :\n",
    "        return numpy.random.normal(mean,var)\n",
    "    \n",
    "    def cal_error(self) :\n",
    "        diff = abs(self.qk-self.mean) \n",
    "        self.error.append(diff)"
   ]
  },
  {
   "cell_type": "code",
   "execution_count": 84,
   "metadata": {},
   "outputs": [
    {
     "name": "stdout",
     "output_type": "stream",
     "text": [
      "enter number of arm and epsilon\n",
      "\n"
     ]
    }
   ],
   "source": [
    "print(\"enter number of arm and epsilon\\n\")"
   ]
  },
  {
   "cell_type": "code",
   "execution_count": 85,
   "metadata": {},
   "outputs": [
    {
     "name": "stdout",
     "output_type": "stream",
     "text": [
      "2\n",
      "1\n"
     ]
    }
   ],
   "source": [
    "k=int(input())\n",
    "ep=float(input())"
   ]
  },
  {
   "cell_type": "code",
   "execution_count": null,
   "metadata": {},
   "outputs": [],
   "source": [
    "desc=[]"
   ]
  },
  {
   "cell_type": "code",
   "execution_count": null,
   "metadata": {},
   "outputs": [],
   "source": [
    "for i in range(k) :\n",
    "    temp=[]\n",
    "    for j in range(3) :\n",
    "        inp  = int(input())\n",
    "        temp.append(inp)\n",
    "    desc.append(temp)"
   ]
  },
  {
   "cell_type": "code",
   "execution_count": 86,
   "metadata": {},
   "outputs": [
    {
     "name": "stdout",
     "output_type": "stream",
     "text": [
      "enter details of arm  0\n",
      "enter mean\n",
      "5\n",
      "enter variance\n",
      "1\n",
      "enter intial q_k\n",
      "0\n",
      "enter details of arm  1\n",
      "enter mean\n",
      "10\n",
      "enter variance\n",
      "1\n",
      "enter intial q_k\n",
      "0\n"
     ]
    }
   ],
   "source": [
    "arms_set = Arm_set(k,ep,desc)"
   ]
  },
  {
   "cell_type": "code",
   "execution_count": 87,
   "metadata": {},
   "outputs": [
    {
     "name": "stdout",
     "output_type": "stream",
     "text": [
      "enter number of total actions\n",
      "1000\n"
     ]
    }
   ],
   "source": [
    "tot_acts = int(input(\"enter number of total actions\\n\"))"
   ]
  },
  {
   "cell_type": "code",
   "execution_count": 88,
   "metadata": {},
   "outputs": [],
   "source": [
    "for i in range(tot_acts) :\n",
    "    arms_set.Take_Action()"
   ]
  },
  {
   "cell_type": "code",
   "execution_count": null,
   "metadata": {},
   "outputs": [],
   "source": []
  }
 ],
 "metadata": {
  "kernelspec": {
   "display_name": "Python 3",
   "language": "python",
   "name": "python3"
  },
  "language_info": {
   "codemirror_mode": {
    "name": "ipython",
    "version": 3
   },
   "file_extension": ".py",
   "mimetype": "text/x-python",
   "name": "python",
   "nbconvert_exporter": "python",
   "pygments_lexer": "ipython3",
   "version": "3.7.6"
  }
 },
 "nbformat": 4,
 "nbformat_minor": 4
}
