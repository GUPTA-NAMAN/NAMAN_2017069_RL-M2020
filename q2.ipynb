{
  "nbformat": 4,
  "nbformat_minor": 0,
  "metadata": {
    "colab": {
      "name": "qc1_rl.ipynb",
      "provenance": []
    },
    "kernelspec": {
      "name": "python3",
      "display_name": "Python 3"
    }
  },
  "cells": [
    {
      "cell_type": "code",
      "metadata": {
        "id": "jkAvKbVk0YvS"
      },
      "source": [
        "import numpy as np\n"
      ],
      "execution_count": 3,
      "outputs": []
    },
    {
      "cell_type": "code",
      "metadata": {
        "id": "w_lM9dOvE5x4"
      },
      "source": [
        ""
      ],
      "execution_count": null,
      "outputs": []
    },
    {
      "cell_type": "markdown",
      "metadata": {
        "id": "YfEzQrYbE6Vh"
      },
      "source": [
        "Solving by Normal eqaution method  x=A^(-1)B\n",
        "\n",
        "In below equation :\n",
        "\n",
        "matrix[index][ a*5 + b  ] = number\n",
        "\n",
        "index represent block for which we have findout linear eqaution , from 0(left-top) , 4(rigth-top) , 20(left-bottom) to 24(rigth-bottom) .\n",
        "\n",
        "a represent row\n",
        "\n",
        "b represent column \n",
        "\n",
        "matrix[index][a*5+b] represent cofficient of block at location(a,b) produced by equationg bellman equation by block defind by index.\n"
      ]
    },
    {
      "cell_type": "code",
      "metadata": {
        "id": "t6K346v60r-G"
      },
      "source": [
        "matrix = np.zeros( (25,25) , 'float' )\n",
        "b = np.zeros( 25 , 'float' )"
      ],
      "execution_count": 4,
      "outputs": []
    },
    {
      "cell_type": "code",
      "metadata": {
        "id": "OvzwEGNc1WnQ"
      },
      "source": [
        "# this function fill the matrix A \n",
        "\n",
        "def fill_matrix(matrix,b,i,j) :\n",
        "  index = i*5 + j \n",
        "  if (j==0) :\n",
        "    if (i==0) :\n",
        "      matrix[index][ i*5 + j ] = 2.2 ; matrix[index][ (i+1)*5 + j ] = -0.9 ; matrix[index][ i*5 + (j+1) ] = -0.9 ; \n",
        "      b[index] = -2.0    \n",
        "    elif (i==4) :\n",
        "      matrix[index][ i*5 + j ] = 2.2 ; matrix[index][  (i-1)*5 + j ] = -0.9 ; matrix[index][ i*5 + j+1 ] = -0.9 ;\n",
        "      b[index] = -2.0 \n",
        "    else :\n",
        "      matrix[index][ i*5 + j] = 3.1 ; matrix[index][ (i-1)*5 + j ] = -0.9 ; matrix[index][ (i+1)*5 + j ] = -0.9 ;\n",
        "      matrix[index][ i*5 +  j+1 ]= -0.9 ; \n",
        "      b[index] = -1.0\n",
        "  elif (j==4) :\n",
        "    if ( i==0 ) :\n",
        "      matrix[index][ i*5 + j ] = 2.2 ; matrix[index][(i-1)*5+j] = -0.9 ; matrix[index][ i*5 + j-1 ] = -0.9 ; \n",
        "      b[index] = -2.0\n",
        "    elif (i==4) :\n",
        "      matrix[index][i*5 + j ]= 2.2 ; matrix[index][ (i-1)*5 + j ] = -0.9 ; matrix[index][ i*5 + j-1 ] = -0.9 ;\n",
        "      b[index] = -2.0\n",
        "    else :\n",
        "      matrix[index][i*5+j] = 3.1 ; matrix[index][(i-1)*5+j]=-0.9 ; matrix[index][(i+1)*5+j]=-0.9 ; matrix[index][i*5 + j-1] = -0.9 ;\n",
        "      b[index] = -1.0\n",
        "  else :\n",
        "    \n",
        "      if i==0 :\n",
        "        matrix[index][i*5+j] = 3.1 ; matrix[index][ (i+1)*5 + j ] = -0.9 ; matrix[index][5*i+j+1]=-0.9 ; matrix[index][ 5*i + j-1] = -0.9\n",
        "      elif i==4 :\n",
        "        matrix[index][i*5+j] = 3.1 ; matrix[index][i*5+j-1]=-0.9 ; matrix[index][5*i+j+1]=-0.9 ; matrix[index][(i-1)*5+j] = -0.9\n",
        "      else :\n",
        "        matrix[index][i*5+j] = 4 ; matrix[index][(i+1)*5+j] = -0.9 ; matrix[index][i*5+j-1]= -0.9 ; matrix[index][i*5+j+1] = -0.9 ; \n",
        "        matrix[index][5*(i-1) + j ] = -0.9\n",
        "\n",
        "      if (i==0 and j==1) :\n",
        "        b[index] =40 \n",
        "      elif (i==0 and j==3) :\n",
        "        b[index] = 20 \n",
        "      else :\n",
        "        if i==0 or i==4 : b[index] = -1.0\n",
        "        else :\n",
        "          b[index] = 0.0\n",
        "      \n",
        "\n",
        "      "
      ],
      "execution_count": 7,
      "outputs": []
    },
    {
      "cell_type": "code",
      "metadata": {
        "id": "XQmfyxzP1FFe"
      },
      "source": [
        "for i in range(5) :\n",
        "  for j in range(5) :\n",
        "    fill_matrix(matrix,b,i,j)"
      ],
      "execution_count": 8,
      "outputs": []
    },
    {
      "cell_type": "code",
      "metadata": {
        "id": "NYKiIfAXCP-S",
        "outputId": "aa726f3d-18d2-40c3-85b1-14610251210a",
        "colab": {
          "base_uri": "https://localhost:8080/",
          "height": 1000
        }
      },
      "source": [
        "# visualizing cofficient's and constants(expected rewards)\n",
        "for i in range(25) :\n",
        "  print(matrix[i])\n",
        "  print(\"constant or expected reward \",b[i])"
      ],
      "execution_count": 9,
      "outputs": [
        {
          "output_type": "stream",
          "text": [
            "[ 2.2 -0.9  0.   0.   0.  -0.9  0.   0.   0.   0.   0.   0.   0.   0.\n",
            "  0.   0.   0.   0.   0.   0.   0.   0.   0.   0.   0. ]\n",
            "constant or expected reward  -2.0\n",
            "[-0.9  3.1 -0.9  0.   0.   0.  -0.9  0.   0.   0.   0.   0.   0.   0.\n",
            "  0.   0.   0.   0.   0.   0.   0.  -0.9  0.   0.   0. ]\n",
            "constant or expected reward  40.0\n",
            "[ 0.  -0.9  3.1 -0.9  0.   0.   0.  -0.9  0.   0.   0.   0.   0.   0.\n",
            "  0.   0.   0.   0.   0.   0.   0.   0.  -0.9  0.   0. ]\n",
            "constant or expected reward  -1.0\n",
            "[ 0.   0.  -0.9  3.1 -0.9  0.   0.   0.  -0.9  0.   0.   0.   0.   0.\n",
            "  0.   0.   0.   0.   0.   0.   0.   0.   0.  -0.9  0. ]\n",
            "constant or expected reward  20.0\n",
            "[ 0.   0.   0.  -0.9  2.2  0.   0.   0.   0.   0.   0.   0.   0.   0.\n",
            "  0.   0.   0.   0.   0.   0.   0.   0.   0.   0.  -0.9]\n",
            "constant or expected reward  -2.0\n",
            "[-0.9  0.   0.   0.   0.   3.1 -0.9  0.   0.   0.  -0.9  0.   0.   0.\n",
            "  0.   0.   0.   0.   0.   0.   0.   0.   0.   0.   0. ]\n",
            "constant or expected reward  -1.0\n",
            "[ 0.  -0.9  0.   0.   0.  -0.9  4.  -0.9  0.   0.   0.  -0.9  0.   0.\n",
            "  0.   0.   0.   0.   0.   0.   0.   0.   0.   0.   0. ]\n",
            "constant or expected reward  0.0\n",
            "[ 0.   0.  -0.9  0.   0.   0.  -0.9  4.  -0.9  0.   0.   0.  -0.9  0.\n",
            "  0.   0.   0.   0.   0.   0.   0.   0.   0.   0.   0. ]\n",
            "constant or expected reward  0.0\n",
            "[ 0.   0.   0.  -0.9  0.   0.   0.  -0.9  4.  -0.9  0.   0.   0.  -0.9\n",
            "  0.   0.   0.   0.   0.   0.   0.   0.   0.   0.   0. ]\n",
            "constant or expected reward  0.0\n",
            "[ 0.   0.   0.   0.  -0.9  0.   0.   0.  -0.9  3.1  0.   0.   0.   0.\n",
            " -0.9  0.   0.   0.   0.   0.   0.   0.   0.   0.   0. ]\n",
            "constant or expected reward  -1.0\n",
            "[ 0.   0.   0.   0.   0.  -0.9  0.   0.   0.   0.   3.1 -0.9  0.   0.\n",
            "  0.  -0.9  0.   0.   0.   0.   0.   0.   0.   0.   0. ]\n",
            "constant or expected reward  -1.0\n",
            "[ 0.   0.   0.   0.   0.   0.  -0.9  0.   0.   0.  -0.9  4.  -0.9  0.\n",
            "  0.   0.  -0.9  0.   0.   0.   0.   0.   0.   0.   0. ]\n",
            "constant or expected reward  0.0\n",
            "[ 0.   0.   0.   0.   0.   0.   0.  -0.9  0.   0.   0.  -0.9  4.  -0.9\n",
            "  0.   0.   0.  -0.9  0.   0.   0.   0.   0.   0.   0. ]\n",
            "constant or expected reward  0.0\n",
            "[ 0.   0.   0.   0.   0.   0.   0.   0.  -0.9  0.   0.   0.  -0.9  4.\n",
            " -0.9  0.   0.   0.  -0.9  0.   0.   0.   0.   0.   0. ]\n",
            "constant or expected reward  0.0\n",
            "[ 0.   0.   0.   0.   0.   0.   0.   0.   0.  -0.9  0.   0.   0.  -0.9\n",
            "  3.1  0.   0.   0.   0.  -0.9  0.   0.   0.   0.   0. ]\n",
            "constant or expected reward  -1.0\n",
            "[ 0.   0.   0.   0.   0.   0.   0.   0.   0.   0.  -0.9  0.   0.   0.\n",
            "  0.   3.1 -0.9  0.   0.   0.  -0.9  0.   0.   0.   0. ]\n",
            "constant or expected reward  -1.0\n",
            "[ 0.   0.   0.   0.   0.   0.   0.   0.   0.   0.   0.  -0.9  0.   0.\n",
            "  0.  -0.9  4.  -0.9  0.   0.   0.  -0.9  0.   0.   0. ]\n",
            "constant or expected reward  0.0\n",
            "[ 0.   0.   0.   0.   0.   0.   0.   0.   0.   0.   0.   0.  -0.9  0.\n",
            "  0.   0.  -0.9  4.  -0.9  0.   0.   0.  -0.9  0.   0. ]\n",
            "constant or expected reward  0.0\n",
            "[ 0.   0.   0.   0.   0.   0.   0.   0.   0.   0.   0.   0.   0.  -0.9\n",
            "  0.   0.   0.  -0.9  4.  -0.9  0.   0.   0.  -0.9  0. ]\n",
            "constant or expected reward  0.0\n",
            "[ 0.   0.   0.   0.   0.   0.   0.   0.   0.   0.   0.   0.   0.   0.\n",
            " -0.9  0.   0.   0.  -0.9  3.1  0.   0.   0.   0.  -0.9]\n",
            "constant or expected reward  -1.0\n",
            "[ 0.   0.   0.   0.   0.   0.   0.   0.   0.   0.   0.   0.   0.   0.\n",
            "  0.  -0.9  0.   0.   0.   0.   2.2 -0.9  0.   0.   0. ]\n",
            "constant or expected reward  -2.0\n",
            "[ 0.   0.   0.   0.   0.   0.   0.   0.   0.   0.   0.   0.   0.   0.\n",
            "  0.   0.  -0.9  0.   0.   0.  -0.9  3.1 -0.9  0.   0. ]\n",
            "constant or expected reward  -1.0\n",
            "[ 0.   0.   0.   0.   0.   0.   0.   0.   0.   0.   0.   0.   0.   0.\n",
            "  0.   0.   0.  -0.9  0.   0.   0.  -0.9  3.1 -0.9  0. ]\n",
            "constant or expected reward  -1.0\n",
            "[ 0.   0.   0.   0.   0.   0.   0.   0.   0.   0.   0.   0.   0.   0.\n",
            "  0.   0.   0.   0.  -0.9  0.   0.   0.  -0.9  3.1 -0.9]\n",
            "constant or expected reward  -1.0\n",
            "[ 0.   0.   0.   0.   0.   0.   0.   0.   0.   0.   0.   0.   0.   0.\n",
            "  0.   0.   0.   0.   0.  -0.9  0.   0.   0.  -0.9  2.2]\n",
            "constant or expected reward  -2.0\n"
          ],
          "name": "stdout"
        }
      ]
    },
    {
      "cell_type": "code",
      "metadata": {
        "id": "p-tZ_-4A2dRS"
      },
      "source": [
        "inv_matrix = np.linalg.inv(matrix)"
      ],
      "execution_count": 10,
      "outputs": []
    },
    {
      "cell_type": "code",
      "metadata": {
        "id": "pEwKCdwyClJ9"
      },
      "source": [
        "values = np.dot(inv_matrix,b)"
      ],
      "execution_count": 11,
      "outputs": []
    },
    {
      "cell_type": "code",
      "metadata": {
        "id": "vAY401DtC_IY",
        "outputId": "db7ab774-fbc9-4e3b-9dfa-db93686ba69c",
        "colab": {
          "base_uri": "https://localhost:8080/",
          "height": 459
        }
      },
      "source": [
        "print(\"row,column,value\")\n",
        "for i in range(5) :\n",
        "  for j in range(5) :\n",
        "    print(i,j,values[i*5+j])"
      ],
      "execution_count": 12,
      "outputs": [
        {
          "output_type": "stream",
          "text": [
            "row,column,value\n",
            "0 0 10.037115913951473\n",
            "0 1 21.159257169529358\n",
            "0 2 10.844402237883678\n",
            "0 3 11.80007490081911\n",
            "0 4 3.3578891221497678\n",
            "1 0 5.598137286796467\n",
            "1 1 8.064818639267292\n",
            "1 2 5.971852062838966\n",
            "1 3 4.9702553389285855\n",
            "1 4 2.333899097444893\n",
            "2 0 2.291649434635731\n",
            "2 1 3.114391877578725\n",
            "2 2 2.6620885076491785\n",
            "2 3 1.9841976674685178\n",
            "2 4 0.8219524301207237\n",
            "3 0 0.29204111048121423\n",
            "3 1 0.8231850965754683\n",
            "3 2 0.7610628705545823\n",
            "3 3 0.3643600231615951\n",
            "3 4 -0.37581617227536324\n",
            "4 0 -0.9978040395536838\n",
            "4 1 -0.5088954293902198\n",
            "4 2 -0.4671319804769864\n",
            "4 3 -0.7500664850295371\n",
            "4 4 -1.369679268897459\n"
          ],
          "name": "stdout"
        }
      ]
    },
    {
      "cell_type": "code",
      "metadata": {
        "id": "p7SdyYROGy5_"
      },
      "source": [
        ""
      ],
      "execution_count": null,
      "outputs": []
    },
    {
      "cell_type": "markdown",
      "metadata": {
        "id": "IOeJ3Jl4GtH9"
      },
      "source": [
        "OBSERVATION :\n",
        "\n",
        "(0,1) block has highest as expected.\n",
        "\n",
        "(0,3) has second highest that can be guessed ,  \n",
        "\n",
        "(4,4) is lowest because two action will hit edge and other two actions will take time to reach 'A' or 'B'\n"
      ]
    },
    {
      "cell_type": "code",
      "metadata": {
        "id": "IqhwX1Q8HohO"
      },
      "source": [
        ""
      ],
      "execution_count": null,
      "outputs": []
    }
  ]
}